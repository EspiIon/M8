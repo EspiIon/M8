{
 "cells": [
  {
   "cell_type": "markdown",
   "metadata": {},
   "source": [
    "# M8 - TP1 : Premiers pas avec Python"
   ]
  },
  {
   "cell_type": "markdown",
   "metadata": {},
   "source": [
    "Le but du TP est de commencer à étudier de vraies données avec Python. Pour plus de détails sur Python, NumPy et Matplotlib, un grand nombre de ressources sont disponibles sur https://pythonprogramming.net/ , y compris plusieurs séries de vidéos YouTube.\n",
    "\n",
    "La documentation complète est disponible ici : \n",
    "https://docs.scipy.org/doc/numpy-1.15.0/reference/index.html"
   ]
  },
  {
   "cell_type": "markdown",
   "metadata": {},
   "source": [
    "# Initiation à Numpy\n",
    "\n",
    "Python est un langage très complet et utilisé dans de nombreux domaines, du développement Web à la robotique.\n",
    "\n",
    "Dans cette série de TP, nous l'utiliserons pour le calcul mathématique et la  science des données.\n",
    "\n",
    "Les bibliothèques de prédilection pour le calcul mathématique en Python sont NumPy et Matplotlib. Pour nous familiariser avec ces bibliothèques, nous allons nous baser sur le tutoriel disponible ici : https://numpy.org/doc/stable/user/absolute_beginners.html.\n",
    "\n",
    "La plupart sinon toutes les réponses aux questions du TP sont disponibles dans ce tutoriel.\n"
   ]
  },
  {
   "cell_type": "markdown",
   "metadata": {},
   "source": [
    "## Ex. 1 : Python et NumPy en quelques lignes\n",
    "Commencez par importer la bibliothèque numpy afin de pouvoir l'utiliser"
   ]
  },
  {
   "cell_type": "code",
   "execution_count": 19,
   "metadata": {},
   "outputs": [],
   "source": [
    "import numpy as np"
   ]
  },
  {
   "cell_type": "code",
   "execution_count": 20,
   "metadata": {},
   "outputs": [
    {
     "data": {
      "text/plain": [
       "4"
      ]
     },
     "execution_count": 20,
     "metadata": {},
     "output_type": "execute_result"
    }
   ],
   "source": [
    "2+2"
   ]
  },
  {
   "cell_type": "markdown",
   "metadata": {},
   "source": [
    "Calculez $\\log(\\cos(1-(1+1)/2))$ avec NumPy"
   ]
  },
  {
   "cell_type": "code",
   "execution_count": 21,
   "metadata": {},
   "outputs": [
    {
     "name": "stdout",
     "output_type": "stream",
     "text": [
      "0.0\n"
     ]
    }
   ],
   "source": [
    "print(np.log(np.cos(1-(1+1)/2)))"
   ]
  },
  {
   "cell_type": "markdown",
   "metadata": {},
   "source": [
    "Que fait l'instruction help ?"
   ]
  },
  {
   "cell_type": "code",
   "execution_count": 22,
   "metadata": {},
   "outputs": [
    {
     "name": "stdout",
     "output_type": "stream",
     "text": [
      "Help on ufunc in module numpy:\n",
      "\n",
      "log = <ufunc 'log'>\n",
      "    log(x, /, out=None, *, where=True, casting='same_kind', order='K', dtype=None, subok=True[, signature])\n",
      "\n",
      "    Natural logarithm, element-wise.\n",
      "\n",
      "    The natural logarithm `log` is the inverse of the exponential function,\n",
      "    so that `log(exp(x)) = x`. The natural logarithm is logarithm in base\n",
      "    `e`.\n",
      "\n",
      "    Parameters\n",
      "    ----------\n",
      "    x : array_like\n",
      "        Input value.\n",
      "    out : ndarray, None, or tuple of ndarray and None, optional\n",
      "        A location into which the result is stored. If provided, it must have\n",
      "        a shape that the inputs broadcast to. If not provided or None,\n",
      "        a freshly-allocated array is returned. A tuple (possible only as a\n",
      "        keyword argument) must have length equal to the number of outputs.\n",
      "    where : array_like, optional\n",
      "        This condition is broadcast over the input. At locations where the\n",
      "        condition is True, the `out` array will be set to the ufunc result.\n",
      "        Elsewhere, the `out` array will retain its original value.\n",
      "        Note that if an uninitialized `out` array is created via the default\n",
      "        ``out=None``, locations within it where the condition is False will\n",
      "        remain uninitialized.\n",
      "    **kwargs\n",
      "        For other keyword-only arguments, see the\n",
      "        :ref:`ufunc docs <ufuncs.kwargs>`.\n",
      "\n",
      "    Returns\n",
      "    -------\n",
      "    y : ndarray\n",
      "        The natural logarithm of `x`, element-wise.\n",
      "        This is a scalar if `x` is a scalar.\n",
      "\n",
      "    See Also\n",
      "    --------\n",
      "    log10, log2, log1p, emath.log\n",
      "\n",
      "    Notes\n",
      "    -----\n",
      "    Logarithm is a multivalued function: for each `x` there is an infinite\n",
      "    number of `z` such that `exp(z) = x`. The convention is to return the\n",
      "    `z` whose imaginary part lies in `(-pi, pi]`.\n",
      "\n",
      "    For real-valued input data types, `log` always returns real output. For\n",
      "    each value that cannot be expressed as a real number or infinity, it\n",
      "    yields ``nan`` and sets the `invalid` floating point error flag.\n",
      "\n",
      "    For complex-valued input, `log` is a complex analytical function that\n",
      "    has a branch cut `[-inf, 0]` and is continuous from above on it. `log`\n",
      "    handles the floating-point negative zero as an infinitesimal negative\n",
      "    number, conforming to the C99 standard.\n",
      "\n",
      "    In the cases where the input has a negative real part and a very small\n",
      "    negative complex part (approaching 0), the result is so close to `-pi`\n",
      "    that it evaluates to exactly `-pi`.\n",
      "\n",
      "    References\n",
      "    ----------\n",
      "    .. [1] M. Abramowitz and I.A. Stegun, \"Handbook of Mathematical Functions\",\n",
      "           10th printing, 1964, pp. 67.\n",
      "           https://personal.math.ubc.ca/~cbm/aands/page_67.htm\n",
      "    .. [2] Wikipedia, \"Logarithm\". https://en.wikipedia.org/wiki/Logarithm\n",
      "\n",
      "    Examples\n",
      "    --------\n",
      "    >>> import numpy as np\n",
      "    >>> np.log([1, np.e, np.e**2, 0])\n",
      "    array([  0.,   1.,   2., -inf])\n",
      "\n"
     ]
    }
   ],
   "source": [
    "help(np.log)"
   ]
  },
  {
   "cell_type": "markdown",
   "metadata": {},
   "source": [
    "Permet d'obtenir de l'aide pour une fonction "
   ]
  },
  {
   "cell_type": "markdown",
   "metadata": {},
   "source": [
    "Créez une variable `a` à laquelle vous affecterez le résultat du calcul $2*(3+ 2)$. Puis enlevez $1$ à la valeur de la variable `a`."
   ]
  },
  {
   "cell_type": "code",
   "execution_count": 23,
   "metadata": {},
   "outputs": [
    {
     "data": {
      "text/plain": [
       "9"
      ]
     },
     "execution_count": 23,
     "metadata": {},
     "output_type": "execute_result"
    }
   ],
   "source": [
    "a = 2*(3+2)\n",
    "a-=1\n",
    "a"
   ]
  },
  {
   "cell_type": "markdown",
   "metadata": {},
   "source": [
    "En NumPy, les matrices et vecteurs sont representés par des variables de type np.array, dont le nombre de dimensions peut varier.\n",
    "\n",
    "Construisez un vecteur $v = (1, 2, −1, −2, 0, 5)$\n",
    "Vérifiez la taille et forme de ce vecteurs."
   ]
  },
  {
   "cell_type": "code",
   "execution_count": 24,
   "metadata": {},
   "outputs": [
    {
     "data": {
      "text/plain": [
       "array([ 1,  2, -1, -2,  0,  5])"
      ]
     },
     "execution_count": 24,
     "metadata": {},
     "output_type": "execute_result"
    }
   ],
   "source": [
    "v= np.array([1,2,-1,-2,0,5])\n",
    "v"
   ]
  },
  {
   "cell_type": "markdown",
   "metadata": {},
   "source": [
    "En mathématiques, il est important de distinguer les vecteurs colonnes des vecteurs lignes. Calculez un vecteur u correspondant à la version vecteur colonne de $v$. De même, construisez $w = u^\\top$. Essayez de le faire de plusieurs manières différentes afin de commencez à maitriser Numpy."
   ]
  },
  {
   "cell_type": "code",
   "execution_count": 25,
   "metadata": {},
   "outputs": [
    {
     "data": {
      "text/plain": [
       "array([[ 1],\n",
       "       [ 2],\n",
       "       [-1],\n",
       "       [-2],\n",
       "       [ 0],\n",
       "       [ 5]])"
      ]
     },
     "execution_count": 25,
     "metadata": {},
     "output_type": "execute_result"
    }
   ],
   "source": [
    "u= np.array([[1],[2],[-1],[-2],[0],[5]])\n",
    "u"
   ]
  },
  {
   "cell_type": "code",
   "execution_count": 26,
   "metadata": {},
   "outputs": [
    {
     "data": {
      "text/plain": [
       "array([[ 1,  2, -1, -2,  0,  5]])"
      ]
     },
     "execution_count": 26,
     "metadata": {},
     "output_type": "execute_result"
    }
   ],
   "source": [
    "w=u.T\n",
    "w"
   ]
  },
  {
   "cell_type": "markdown",
   "metadata": {},
   "source": [
    "Calculez le vecteur de la différence $u^t − w$ (et vérifiez que $u = W^\n",
    "t$). Quelle est la nature mathématique de cet objet ? Essayez de calculer $u−w$. Pourquoi obtient-on cet objet ?"
   ]
  },
  {
   "cell_type": "code",
   "execution_count": 27,
   "metadata": {},
   "outputs": [
    {
     "data": {
      "text/plain": [
       "array([[ 0, -1,  2,  3,  1, -4],\n",
       "       [ 1,  0,  3,  4,  2, -3],\n",
       "       [-2, -3,  0,  1, -1, -6],\n",
       "       [-3, -4, -1,  0, -2, -7],\n",
       "       [-1, -2,  1,  2,  0, -5],\n",
       "       [ 4,  3,  6,  7,  5,  0]])"
      ]
     },
     "execution_count": 27,
     "metadata": {},
     "output_type": "execute_result"
    }
   ],
   "source": [
    "u-w"
   ]
  },
  {
   "cell_type": "markdown",
   "metadata": {},
   "source": [
    "7. Extrayez la valeur de la deuxième composante des vecteur $u$ et $w$. Affectez à la variable $b$ la valeur de la dernière composante du vecteur $u$. Affectez à la variable $n$ la taille du vecteur $u$ (car $u \\in \\mathbb{R}^n$)"
   ]
  },
  {
   "cell_type": "code",
   "execution_count": 40,
   "metadata": {},
   "outputs": [
    {
     "data": {
      "text/plain": [
       "(6, array([2]), array([2]))"
      ]
     },
     "execution_count": 40,
     "metadata": {},
     "output_type": "execute_result"
    }
   ],
   "source": [
    "u2=u[1]\n",
    "w2=w.T[1]\n",
    "b=u[5]\n",
    "\n",
    "n=np.size(u)\n",
    "n,w2,u2\n"
   ]
  },
  {
   "cell_type": "markdown",
   "metadata": {},
   "source": [
    "Créez un vecteur $x = (v(0), v(5), v(2))$. Calculez la somme des éléments de $x$. (en cas de doute sur la nature d’une fonction, faites `help(np.sum)`)"
   ]
  },
  {
   "cell_type": "code",
   "execution_count": 29,
   "metadata": {},
   "outputs": [
    {
     "data": {
      "text/plain": [
       "(array([ 1,  5, -1]), np.int64(5))"
      ]
     },
     "execution_count": 29,
     "metadata": {},
     "output_type": "execute_result"
    }
   ],
   "source": [
    "x=np.array([v[0],v[5],v[2]])\n",
    "\n",
    "sum=np.sum(x)\n",
    "x,sum"
   ]
  },
  {
   "cell_type": "markdown",
   "metadata": {},
   "source": [
    "Créez un vecteur $y = (v(1), . . . , v(4))$, un vecteur avec 4 éléments, en utilisant des slices."
   ]
  },
  {
   "cell_type": "code",
   "execution_count": 30,
   "metadata": {},
   "outputs": [
    {
     "data": {
      "text/plain": [
       "array([ 2, -1, -2])"
      ]
     },
     "execution_count": 30,
     "metadata": {},
     "output_type": "execute_result"
    }
   ],
   "source": [
    "x = v[1:4]\n",
    "x"
   ]
  },
  {
   "cell_type": "markdown",
   "metadata": {},
   "source": [
    "Calculez la somme cumulée des éléments du vecteur $u$. Quelle est la taille de cet object ? Affectez le résultat de ce calcul à une nouvelle variable $c$. Que signifie RTFM ?"
   ]
  },
  {
   "cell_type": "markdown",
   "metadata": {},
   "source": [
    "Read the Fucking Manual"
   ]
  },
  {
   "cell_type": "code",
   "execution_count": 41,
   "metadata": {},
   "outputs": [
    {
     "data": {
      "text/plain": [
       "(array([1, 3, 2, 0, 0, 5]), 6)"
      ]
     },
     "execution_count": 41,
     "metadata": {},
     "output_type": "execute_result"
    }
   ],
   "source": [
    "c=np.cumsum(u)\n",
    "\n",
    "c,np.size(c) "
   ]
  },
  {
   "cell_type": "markdown",
   "metadata": {},
   "source": [
    " Créez un nouveau vecteur $t=(1,1,1,0,0,−1,−1,1,1,1)$. Que fait l’instruction diff(t)? (Si vous n’avez pas fait help(diff) c’est que quelque chose vous échappe)"
   ]
  },
  {
   "cell_type": "code",
   "execution_count": 32,
   "metadata": {},
   "outputs": [
    {
     "data": {
      "text/plain": [
       "array([ 1,  1, 10,  0, -1, -1,  1,  1,  1])"
      ]
     },
     "execution_count": 32,
     "metadata": {},
     "output_type": "execute_result"
    }
   ],
   "source": [
    "t=np.array([1,1,10,0,-1,-1,1,1,1])\n",
    "t"
   ]
  },
  {
   "cell_type": "markdown",
   "metadata": {},
   "source": [
    "Calculez les modalités de t dans une variable m."
   ]
  },
  {
   "cell_type": "code",
   "execution_count": 33,
   "metadata": {},
   "outputs": [
    {
     "data": {
      "text/plain": [
       "array([-1,  0,  1, 10])"
      ]
     },
     "execution_count": 33,
     "metadata": {},
     "output_type": "execute_result"
    }
   ],
   "source": [
    "m=np.unique(t)\n",
    "m"
   ]
  },
  {
   "cell_type": "markdown",
   "metadata": {},
   "source": [
    "Que fait l’instruction t==m[0] ? Comptez les effectifs de chaque modalité de t\n"
   ]
  },
  {
   "cell_type": "code",
   "execution_count": 34,
   "metadata": {},
   "outputs": [
    {
     "data": {
      "text/plain": [
       "array([False, False, False, False,  True,  True, False, False, False])"
      ]
     },
     "execution_count": 34,
     "metadata": {},
     "output_type": "execute_result"
    }
   ],
   "source": [
    "t==m[0]"
   ]
  },
  {
   "cell_type": "markdown",
   "metadata": {},
   "source": [
    "Elle donne un tableau de boolean qui correspond a la position des elements de t egale au premier element de m"
   ]
  },
  {
   "cell_type": "markdown",
   "metadata": {},
   "source": [
    "Refaire la même chose avec une boucle en utilisant l’instruction for. vérifiez que les résultats sont bien les mêmes."
   ]
  },
  {
   "cell_type": "code",
   "execution_count": 35,
   "metadata": {},
   "outputs": [
    {
     "data": {
      "text/plain": [
       "array([[False, False, False, False,  True,  True, False, False, False]])"
      ]
     },
     "execution_count": 35,
     "metadata": {},
     "output_type": "execute_result"
    }
   ],
   "source": [
    "tableau = np.full((1,np.size(t)),False)\n",
    "for i in range (np.size(t)-1):\n",
    "    if m[0]==t[i]:\n",
    "        tableau[0][i]=True\n",
    "tableau"
   ]
  },
  {
   "cell_type": "markdown",
   "metadata": {},
   "source": [
    "Créez la matrice\n",
    "$A = \\begin{pmatrix}\n",
    "1 & 2 & 3\\\\\n",
    "4 & 5 & 6\\\\\n",
    "−1 & 0 & 1\\\\\n",
    "1 & 1 & 2\n",
    "\\end{pmatrix}$"
   ]
  },
  {
   "cell_type": "code",
   "execution_count": 36,
   "metadata": {},
   "outputs": [
    {
     "data": {
      "text/plain": [
       "array([[ 1,  2,  3],\n",
       "       [ 4,  5,  6],\n",
       "       [-1,  0,  1],\n",
       "       [ 1,  1,  2]])"
      ]
     },
     "execution_count": 36,
     "metadata": {},
     "output_type": "execute_result"
    }
   ],
   "source": [
    "A=np.array([[1,2,3],[4,5,6],[-1,0,1],[1,1,2]])\n",
    "A\n"
   ]
  },
  {
   "cell_type": "markdown",
   "metadata": {},
   "source": []
  },
  {
   "cell_type": "markdown",
   "metadata": {},
   "source": [
    "Quelle est la deuxième colonne de A ? Créez un vecteur s composé de la troisième ligne de A."
   ]
  },
  {
   "cell_type": "markdown",
   "metadata": {},
   "source": [
    "La deuxieme colonne de A est 2, 5, 0, 1"
   ]
  },
  {
   "cell_type": "code",
   "execution_count": 116,
   "metadata": {},
   "outputs": [
    {
     "data": {
      "text/plain": [
       "array([[-1],\n",
       "       [ 0],\n",
       "       [ 1]])"
      ]
     },
     "execution_count": 116,
     "metadata": {},
     "output_type": "execute_result"
    }
   ],
   "source": [
    "A[:,1]\n",
    "S=A[2,0:].reshape(-1,1)\n",
    "S"
   ]
  },
  {
   "cell_type": "markdown",
   "metadata": {},
   "source": [
    "## Matplotlib"
   ]
  },
  {
   "cell_type": "markdown",
   "metadata": {},
   "source": [
    "Afin de vous familiariser avec matplotlib, voici quelques exercices simples. \n",
    "\n",
    "Pour référence, vous pouvez utiliser : \n",
    " * Un cheatsheet simplifié : https://matplotlib.org/cheatsheets/handout-beginner.pdf\n",
    " * Un premier tutoriel : https://matplotlib.org/stable/tutorials/pyplot.html\n",
    " * Un tutoriel plus avancé : https://github.com/rougier/matplotlib-tutorial\n",
    " * la référence ultime (et complexe ) : https://github.com/rougier/scientific-visualization-book\n",
    "\n",
    "\n",
    "Créer un vecteur contenant 60 valeurs également réparties croissantes dans l'intervalle $[0, 2\\pi]$.\n",
    "\n",
    "Que fait l’instruction plt.plot(t) ?\n",
    "Expliquez la différence entre plt.plot(a) et plt.plot(a,b)."
   ]
  },
  {
   "cell_type": "code",
   "execution_count": 38,
   "metadata": {},
   "outputs": [
    {
     "data": {
      "text/plain": [
       "array([0.        , 0.10649467, 0.21298933, 0.319484  , 0.42597866,\n",
       "       0.53247333, 0.638968  , 0.74546266, 0.85195733, 0.958452  ,\n",
       "       1.06494666, 1.17144133, 1.27793599, 1.38443066, 1.49092533,\n",
       "       1.59741999, 1.70391466, 1.81040933, 1.91690399, 2.02339866,\n",
       "       2.12989332, 2.23638799, 2.34288266, 2.44937732, 2.55587199,\n",
       "       2.66236666, 2.76886132, 2.87535599, 2.98185065, 3.08834532,\n",
       "       3.19483999, 3.30133465, 3.40782932, 3.51432399, 3.62081865,\n",
       "       3.72731332, 3.83380798, 3.94030265, 4.04679732, 4.15329198,\n",
       "       4.25978665, 4.36628132, 4.47277598, 4.57927065, 4.68576531,\n",
       "       4.79225998, 4.89875465, 5.00524931, 5.11174398, 5.21823864,\n",
       "       5.32473331, 5.43122798, 5.53772264, 5.64421731, 5.75071198,\n",
       "       5.85720664, 5.96370131, 6.07019597, 6.17669064, 6.28318531])"
      ]
     },
     "execution_count": 38,
     "metadata": {},
     "output_type": "execute_result"
    }
   ],
   "source": [
    "t = np.array(np.linspace(0, 2*np.pi, 60))\n",
    "t"
   ]
  },
  {
   "cell_type": "code",
   "execution_count": 98,
   "metadata": {},
   "outputs": [],
   "source": [
    " import matplotlib.pyplot as plt"
   ]
  },
  {
   "cell_type": "markdown",
   "metadata": {},
   "source": [
    "Créer un graphique en barres du vecteur $a$."
   ]
  },
  {
   "cell_type": "code",
   "execution_count": 45,
   "metadata": {},
   "outputs": [
    {
     "data": {
      "text/plain": [
       "<BarContainer object of 5 artists>"
      ]
     },
     "execution_count": 45,
     "metadata": {},
     "output_type": "execute_result"
    },
    {
     "data": {
      "image/png": "[encoded data removed]",
      "text/plain": [
       "<Figure size 640x480 with 1 Axes>"
      ]
     },
     "metadata": {},
     "output_type": "display_data"
    }
   ],
   "source": [
    "a = [1,2,3,4,5]\n",
    "plt.bar(a,1)"
   ]
  },
  {
   "cell_type": "markdown",
   "metadata": {},
   "source": [
    "Créer un histogramme du vecteur $a$ de la prochaine cellule. Quelle forme attendez vous ? "
   ]
  },
  {
   "cell_type": "markdown",
   "metadata": {},
   "source": [
    "Quelque chose qui ressemble a la loi normale"
   ]
  },
  {
   "cell_type": "code",
   "execution_count": 70,
   "metadata": {},
   "outputs": [
    {
     "data": {
      "text/plain": [
       "(array([  7.,  19.,  67., 161., 239., 223., 171.,  78.,  27.,   8.]),\n",
       " array([-3.21828921, -2.58074849, -1.94320777, -1.30566706, -0.66812634,\n",
       "        -0.03058562,  0.6069551 ,  1.24449581,  1.88203653,  2.51957725,\n",
       "         3.15711797]),\n",
       " <BarContainer object of 10 artists>)"
      ]
     },
     "execution_count": 70,
     "metadata": {},
     "output_type": "execute_result"
    },
    {
     "data": {
      "image/png": "[encoded data removed]",
      "text/plain": [
       "<Figure size 640x480 with 1 Axes>"
      ]
     },
     "metadata": {},
     "output_type": "display_data"
    }
   ],
   "source": [
    "a = np.random.randn(1000)\n",
    "a\n",
    "plt.hist(a)"
   ]
  },
  {
   "cell_type": "markdown",
   "metadata": {},
   "source": [
    "\n",
    "À partir des données de la cellule suivante, nous allons faire un plot avec un rendu propre et fini. \n",
    " 1. Créer une figure avec deux subplots. Utilisez `plt.subplots()`\n",
    " 2. Tracer la spirale avec un scatter plot sur le premier subplot. Utilisez les séries de données $x$ et $y$.\n",
    " 4. Ajoutez un titre à ce premier subplot\n",
    " 5. Ajoutez des étiquettes sur les axes.\n",
    " 6. Ajoutez une légende pour les couleurs.\n",
    " 7. Répetez les étapes pour tracer le cercle et changez la colormap pour 'plasma'.\n",
    " 8. Ajoutez les couleurs sur le cercle en fonction de `phi`\n",
    " 8. Sauvegardez l'image en format svg\n",
    "\n",
    " \n",
    "\n",
    "\n",
    "\n"
   ]
  },
  {
   "cell_type": "code",
   "execution_count": null,
   "metadata": {},
   "outputs": [
    {
     "data": {
      "image/png": "[encoded data removed]",
      "text/plain": [
       "<Figure size 640x480 with 1 Axes>"
      ]
     },
     "metadata": {},
     "output_type": "display_data"
    }
   ],
   "source": [
    "theta = np.linspace(0, 4 * np.pi, 100)\n",
    "z = np.linspace(0, 1, 100)\n",
    "r = z**2\n",
    "x = r * np.sin(theta)\n",
    "y = r * np.cos(theta)\n",
    "\n",
    "phi = np.linspace(0, 2 * np.pi, 100)\n",
    "x_circle = np.cos(phi)\n",
    "y_circle = np.sin(phi)\n",
    "\n",
    "plt.subplot()\n",
    "plt.scatter(x, y)\n",
    "plt.title('spirale en 2d (y en fonction de x)')\n",
    "plt.xlabel('axe x')\n",
    "plt.ylabel('axe y')\n",
    "\n",
    "plt.subplot()\n",
    "plt.scatter(x_circle, y_circle,c=phi,cmap='plasma')\n",
    "plt.savefig(\"Cercle_spirale_TD1.svg\", format=\"svg\")\n"
   ]
  },
  {
   "cell_type": "markdown",
   "metadata": {},
   "source": [
    "# Conclusion\n",
    "\n",
    "Pour conclure ce TP d'introduction à Numpy, suivez bien l'ensemble du tutoriel présenté au début : https://numpy.org/doc/stable/user/absolute_beginners.html\n",
    "\n",
    "\n",
    "Pour aller plus loin : \n",
    "- https://numpy.org/doc/stable/user/basics.html\n",
    "- Des exercices : https://github.com/rougier/numpy-100/blob/master/100_Numpy_exercises.ipynb\n",
    "- et encore plus loin : https://www.labri.fr/perso/nrougier/from-python-to-numpy/"
   ]
  },
  {
   "cell_type": "markdown",
   "metadata": {},
   "source": []
  }
 ],
 "metadata": {
  "kernelspec": {
   "display_name": "Python 3 (ipykernel)",
   "language": "python",
   "name": "python3"
  },
  "language_info": {
   "codemirror_mode": {
    "name": "ipython",
    "version": 3
   },
   "file_extension": ".py",
   "mimetype": "text/x-python",
   "name": "python",
   "nbconvert_exporter": "python",
   "pygments_lexer": "ipython3",
   "version": "3.10.6"
  }
 },
 "nbformat": 4,
 "nbformat_minor": 4
}
