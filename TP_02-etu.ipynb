{
 "cells": [
  {
   "cell_type": "markdown",
   "metadata": {
    "slideshow": {
     "slide_type": ""
    },
    "tags": []
   },
   "source": [
    "## M8 - TP2 \n",
    "\n",
    "## Objectifs\n",
    "\n",
    "Le but de ce TP est de manipuler, analyser et implémenter les descripteurs mono variables vus en cours comme la moyenne, médiane, modalités, effectifs et fréquence. \n",
    "\n",
    "\n",
    "À la fin du TP, il faudra être capable de prendre en main un jeu de données, et de mettre en oeuvre les descripteurs pertinents au regard de la nature de la variable.  \n",
    "\n",
    "### Compétences associées :\n",
    "\n",
    "| Numéro        | Compétence           | \n",
    "|:------------- |:--------------------:|\n",
    "|PY001 |\tÊtre capable de calculer des statistiques basiques en Python |\n",
    "|PY002 |\tÊtre capable de calculer des statistiques basiques avec numpy/scipy|\n",
    "|AS001|\tSavoir identifier les caractéristiques d’une variable (qualitative /quantitative, continue/discrete, |domaine, modalités, etc)|\n",
    "|AS002|\tÊtre capable de retrouver le nombre d’exemples d’un jeu de données et leur dimensions|\n",
    "|AS003|\tEtre capable de calculer des statistiques basiques (moyenne, fréquence, médian, etc)|\n",
    "|AS004|\tEtre capable de choisir la bonne statistique par rapport aux caractéristique des données|\n",
    "|AS005|\tConnaitre les définitions mathématiques des statistiques de base|\n",
    "\n"
   ]
  },
  {
   "cell_type": "code",
   "execution_count": 3,
   "metadata": {
    "slideshow": {
     "slide_type": ""
    },
    "tags": []
   },
   "outputs": [],
   "source": [
    "#importation des bibliothèques\n",
    "import numpy as np\n",
    "import matplotlib.pyplot as plt"
   ]
  },
  {
   "cell_type": "markdown",
   "metadata": {
    "slideshow": {
     "slide_type": ""
    },
    "tags": []
   },
   "source": [
    "##  Des vraies données\n",
    "1. Récupérez le fichier data1.dat sur moodle (les données du TP1 dans l’onglet TP). Copiez le dans le répertoire courant. Chargez les données du fichier data1.dat  et vérifiez que vous l’avez bien fait.\n",
    "    > Utilisez la fonction `loadtxt` de numpy"
   ]
  },
  {
   "cell_type": "code",
   "execution_count": 30,
   "metadata": {
    "slideshow": {
     "slide_type": ""
    },
    "tags": []
   },
   "outputs": [
    {
     "data": {
      "text/plain": [
       "(410,\n",
       " 46,\n",
       " array([[ 46.  ,   1.  ,   0.  , ...,   0.94,   4.  ,   4.  ],\n",
       "        [ 49.  ,   2.  ,   0.  , ...,   2.35,   4.  ,   4.  ],\n",
       "        [506.  ,   2.  ,   1.  , ...,   2.33,   4.  ,   3.  ],\n",
       "        ...,\n",
       "        [426.  ,   3.  ,   1.  , ...,   1.05,   6.  ,   5.  ],\n",
       "        [427.  ,   4.  ,   0.  , ...,   2.07,   2.  ,   2.  ],\n",
       "        [428.  ,   4.  ,   0.  , ...,   2.11,   2.  ,   2.  ]]))"
      ]
     },
     "execution_count": 30,
     "metadata": {},
     "output_type": "execute_result"
    }
   ],
   "source": [
    "data1 = np.loadtxt(\"data1\")\n",
    "(n,p)= np.shape(data1)\n",
    "n,p,data1"
   ]
  },
  {
   "cell_type": "markdown",
   "metadata": {},
   "source": [
    "les données sont en 2 dimensions, il y a 410 observations chaqu'une decrite par 46 variables"
   ]
  },
  {
   "cell_type": "markdown",
   "metadata": {
    "slideshow": {
     "slide_type": ""
    },
    "tags": []
   },
   "source": [
    "2. Quelles sont les dimensions des données ? Combien d'observations $n$ et chaque observation est décrite par combien de variables $p$ ?"
   ]
  },
  {
   "cell_type": "markdown",
   "metadata": {
    "slideshow": {
     "slide_type": ""
    },
    "tags": []
   },
   "source": []
  },
  {
   "cell_type": "markdown",
   "metadata": {
    "slideshow": {
     "slide_type": ""
    },
    "tags": []
   },
   "source": [
    "3. Nous allons travailler sur la treizième variable. Il faut donc extraire la variable indicée par 12 du tableau data1 et affectez la à une variable `x`. Quelle est la nature de cette variable ?"
   ]
  },
  {
   "cell_type": "code",
   "execution_count": 101,
   "metadata": {
    "slideshow": {
     "slide_type": ""
    },
    "tags": []
   },
   "outputs": [
    {
     "data": {
      "text/plain": [
       "array([15. ,  6.5,  7. , 20. , 26. , 31. , 35. , 17. ,  8. , 10. , 20. ,\n",
       "       30. , 27. , 30. ,  9. , 17.5, 15. ,  6. , 13. , 23. , 12.5, 12. ,\n",
       "       28. , 15. , 28. , 16. , 16. ,  9. , 32. , 20. , 27. ,  4. , 24. ,\n",
       "       15. , 20. , 10. , 15. , 10. , 25. , 15. , 20. , 12. , 25. , 55. ,\n",
       "       30. , 50. , 37.5,  9. , 25. , 10. , 19. , 20. ,  0. , 18. , 25. ,\n",
       "       21. ,  9. , 20. , 17.5, 20. ,  2. , 27. ,  8. , 30. , 28. , 25. ,\n",
       "        9. , 25. , 16. , 15. , 10. , 15. , 14. , 25. , 16. , 20. , 22.5,\n",
       "       20. , 30. , 22. , 20. , 20. , 25.5, 25. , 13. , 20. , 10. , 34. ,\n",
       "       10. , 14. , 35. , 15. , 30. , 19. , 10. , 45. ,  2. ,  8. , 15. ,\n",
       "       10. ,  4. , 16. , 20. , 12. , 50. , 10. , 13. , 14.5, 20. , 20. ,\n",
       "        6. , 25. , 10. , 26. ,  7.5, 20. , 25. ,  0. , 30. , 30. , 17. ,\n",
       "        6.5, 30. , 12. , 15. ,  5. , 25. , 18. , 30. , 10. , 33. , 20. ,\n",
       "       20. , 42. , 19. , 10. , 10. , 35. , 25. , 10. ,  8. , 12. , 18. ,\n",
       "       13. , 11. , 15. , 10. , 16. ,  8. , 12. ,  9. , 14. , 46. , 45. ,\n",
       "       16. , 10. , 27. ,  7. , 10. , 20. , 23. , 12. , 10. ,  8. , 20. ,\n",
       "       31. , 35. , 10. , 60. , 30. ,  6. , 13. , 12. , 30. , 25. , 40. ,\n",
       "       20. , 30. , 23.5, 25. , 25. , 22. , 20. , 25. , 31. , 12. , 15. ,\n",
       "       25. , 15. , 14. ,  7. , 20.5, 15. ,  6.5, 20. ,  6. , 15. , 20. ,\n",
       "       18. , 15. , 10. , 27. , 20. , 35. ,  7. , 15. , 32. , 25. , 20. ,\n",
       "       30. , 11. , 15. , 35. , 22. , 18. , 30. ,  3. , 15. , 12. , 20. ,\n",
       "       40. , 15. , 13. , 20. , 40. , 35. , 11. , 15. , 14. , 35. , 25. ,\n",
       "       22.5, 15. , 19. , 32. , 38. , 10. ,  0. , 25.5, 20. , 16. , 25. ,\n",
       "       14.5, 25. , 40. , 15. , 35. , 20. , 20. , 27.5, 15. ,  7. , 12. ,\n",
       "       40. , 32. , 20. , 32. , 24. , 40. , 20. , 21. , 12. , 12. ,  3. ,\n",
       "       15. ,  4. ,  9. , 20. , 15. , 10. , 13. , 30. ,  0. , 12. , 60. ,\n",
       "       33. , 14. , 12. ,  8.5, 10. , 32. , 36. , 19. , 28. , 17.5, 20. ,\n",
       "       30. , 10. , 11. , 13. ,  4. ,  9. , 15. , 28. , 24. , 18. , 27. ,\n",
       "       22. , 28.5, 40. , 25. ,  6. ,  7. , 17. , 11. , 22. ,  4. , 25. ,\n",
       "       30. , 40. , 16. ,  6. ,  4. ,  7. , 10. , 22. , 20. , 13. , 10. ,\n",
       "       20. , 20. , 10. , 14. ,  4. , 15. ,  4. , 14. , 23. , 25. , 15. ,\n",
       "       18. , 20. , 12. , 12. , 20. , 15. ,  9. , 15. , 35. , 20. , 20. ,\n",
       "       17.5, 28. ,  6. ,  9. , 12. , 15. ,  8. ,  7. , 11. , 13. , 15. ,\n",
       "       16.5, 12. , 29.5,  6. , 30. ,  7. ,  6. , 10.5, 10.5,  9. , 27.5,\n",
       "       19. , 22.5, 17. , 22. , 25. , 13. , 13. , 25. , 20. , 17. , 20. ,\n",
       "       15. , 11.5, 10. ,  6. , 12. , 15. ,  4. ,  0. , 14. , 19. ,  5. ,\n",
       "       10. , 16. , 28. , 13. ,  8. , 15. ,  6. , 10. , 17. , 35. , 36. ,\n",
       "       17. , 36. , 36. , 32. , 28. , 15. , 10. , 10. ,  7. , 10. ,  6.5,\n",
       "       33. ,  8. , 33. ])"
      ]
     },
     "execution_count": 101,
     "metadata": {},
     "output_type": "execute_result"
    }
   ],
   "source": [
    "x=data[0:,12]\n",
    "x"
   ]
  },
  {
   "cell_type": "markdown",
   "metadata": {
    "slideshow": {
     "slide_type": ""
    },
    "tags": []
   },
   "source": [
    "4. Calculez la moyenne de la variable x de deux manières différentes."
   ]
  },
  {
   "cell_type": "code",
   "execution_count": 64,
   "metadata": {
    "slideshow": {
     "slide_type": ""
    },
    "tags": []
   },
   "outputs": [
    {
     "data": {
      "text/plain": [
       "(18.647560975609757, 18.647560975609757)"
      ]
     },
     "execution_count": 64,
     "metadata": {},
     "output_type": "execute_result"
    }
   ],
   "source": [
    "moyenne1 = np.sum(x)/np.size(x)\n",
    "moyenne2 = np.average(x)\n",
    "moyenne1,moyenne2"
   ]
  },
  {
   "cell_type": "markdown",
   "metadata": {
    "slideshow": {
     "slide_type": ""
    },
    "tags": []
   },
   "source": [
    "5. Calculez, à partir des observations de x, $\\hat{\\mathbb{P}}(x ≤ 50)$ et la fréquence empirique d’observation des la modalité $50 : \\hat{\\mathbb{P}}(x = 50)$"
   ]
  },
  {
   "cell_type": "code",
   "execution_count": 85,
   "metadata": {
    "slideshow": {
     "slide_type": ""
    },
    "tags": []
   },
   "outputs": [
    {
     "data": {
      "text/plain": [
       "(0.9926829268292683, 0.004878048780487805)"
      ]
     },
     "execution_count": 85,
     "metadata": {},
     "output_type": "execute_result"
    }
   ],
   "source": [
    "proba=np.sum(x<=50)/np.size(x)\n",
    "freq = np.sum(x==50)/np.size(x)\n",
    "proba,freq"
   ]
  },
  {
   "cell_type": "markdown",
   "metadata": {
    "slideshow": {
     "slide_type": ""
    },
    "tags": []
   },
   "source": [
    "6. Recherchez des différentes modalités de la variable x"
   ]
  },
  {
   "cell_type": "code",
   "execution_count": 102,
   "metadata": {
    "slideshow": {
     "slide_type": ""
    },
    "tags": []
   },
   "outputs": [
    {
     "data": {
      "text/plain": [
       "array([ 0. ,  2. ,  3. ,  4. ,  5. ,  6. ,  6.5,  7. ,  7.5,  8. ,  8.5,\n",
       "        9. , 10. , 10.5, 11. , 11.5, 12. , 12.5, 13. , 14. , 14.5, 15. ,\n",
       "       16. , 16.5, 17. , 17.5, 18. , 19. , 20. , 20.5, 21. , 22. , 22.5,\n",
       "       23. , 23.5, 24. , 25. , 25.5, 26. , 27. , 27.5, 28. , 28.5, 29.5,\n",
       "       30. , 31. , 32. , 33. , 34. , 35. , 36. , 37.5, 38. , 40. , 42. ,\n",
       "       45. , 46. , 50. , 55. , 60. ])"
      ]
     },
     "execution_count": 102,
     "metadata": {},
     "output_type": "execute_result"
    }
   ],
   "source": [
    "m= np.unique(x)\n",
    "m"
   ]
  },
  {
   "cell_type": "markdown",
   "metadata": {
    "slideshow": {
     "slide_type": ""
    },
    "tags": []
   },
   "source": [
    "7. Calculez des effectifs par modalité"
   ]
  },
  {
   "cell_type": "code",
   "execution_count": 133,
   "metadata": {
    "slideshow": {
     "slide_type": ""
    },
    "tags": []
   },
   "outputs": [
    {
     "data": {
      "text/plain": [
       "(array([ 5,  2,  2,  9,  2, 11,  4, 10,  1,  9,  1, 11, 34,  2,  6,  1, 20,\n",
       "         1, 13,  9,  2, 38, 10,  1,  7,  4,  7,  7, 45,  1,  2,  7,  3,  3,\n",
       "         1,  3, 26,  2,  2,  6,  2,  8,  1,  1, 19,  3,  7,  4,  1, 11,  4,\n",
       "         1,  1,  8,  1,  2,  1,  2,  1,  2]),\n",
       " 60,\n",
       " 60)"
      ]
     },
     "execution_count": 133,
     "metadata": {},
     "output_type": "execute_result"
    }
   ],
   "source": [
    "effect= np.full((np.size(m)),1)\n",
    "for i in range(np.size(m)):\n",
    "    effect[i] = np.sum(x==m[i])\n",
    "effect,np.size(m),np.size(effect)    \n"
   ]
  },
  {
   "cell_type": "markdown",
   "metadata": {
    "slideshow": {
     "slide_type": ""
    },
    "tags": []
   },
   "source": [
    "8. Calculez des effectifs cumulés de chaque modalité, les fréquences et les fréquences cumulées."
   ]
  },
  {
   "cell_type": "code",
   "execution_count": 140,
   "metadata": {
    "slideshow": {
     "slide_type": ""
    },
    "tags": []
   },
   "outputs": [
    {
     "data": {
      "text/plain": [
       "(array([  5,   7,   9,  18,  20,  31,  35,  45,  46,  55,  56,  67, 101,\n",
       "        103, 109, 110, 130, 131, 144, 153, 155, 193, 203, 204, 211, 215,\n",
       "        222, 229, 274, 275, 277, 284, 287, 290, 291, 294, 320, 322, 324,\n",
       "        330, 332, 340, 341, 342, 361, 364, 371, 375, 376, 387, 391, 392,\n",
       "        393, 401, 402, 404, 405, 407, 408, 410]),\n",
       " array([0.01219512, 0.00487805, 0.00487805, 0.02195122, 0.00487805,\n",
       "        0.02682927, 0.0097561 , 0.02439024, 0.00243902, 0.02195122,\n",
       "        0.00243902, 0.02682927, 0.08292683, 0.00487805, 0.01463415,\n",
       "        0.00243902, 0.04878049, 0.00243902, 0.03170732, 0.02195122,\n",
       "        0.00487805, 0.09268293, 0.02439024, 0.00243902, 0.01707317,\n",
       "        0.0097561 , 0.01707317, 0.01707317, 0.1097561 , 0.00243902,\n",
       "        0.00487805, 0.01707317, 0.00731707, 0.00731707, 0.00243902,\n",
       "        0.00731707, 0.06341463, 0.00487805, 0.00487805, 0.01463415,\n",
       "        0.00487805, 0.0195122 , 0.00243902, 0.00243902, 0.04634146,\n",
       "        0.00731707, 0.01707317, 0.0097561 , 0.00243902, 0.02682927,\n",
       "        0.0097561 , 0.00243902, 0.00243902, 0.0195122 , 0.00243902,\n",
       "        0.00487805, 0.00243902, 0.00487805, 0.00243902, 0.00487805]),\n",
       " array([0.01219512, 0.01707317, 0.02195122, 0.04390244, 0.04878049,\n",
       "        0.07560976, 0.08536585, 0.1097561 , 0.11219512, 0.13414634,\n",
       "        0.13658537, 0.16341463, 0.24634146, 0.25121951, 0.26585366,\n",
       "        0.26829268, 0.31707317, 0.3195122 , 0.35121951, 0.37317073,\n",
       "        0.37804878, 0.47073171, 0.49512195, 0.49756098, 0.51463415,\n",
       "        0.52439024, 0.54146341, 0.55853659, 0.66829268, 0.67073171,\n",
       "        0.67560976, 0.69268293, 0.7       , 0.70731707, 0.7097561 ,\n",
       "        0.71707317, 0.7804878 , 0.78536585, 0.7902439 , 0.80487805,\n",
       "        0.8097561 , 0.82926829, 0.83170732, 0.83414634, 0.8804878 ,\n",
       "        0.88780488, 0.90487805, 0.91463415, 0.91707317, 0.94390244,\n",
       "        0.95365854, 0.95609756, 0.95853659, 0.97804878, 0.9804878 ,\n",
       "        0.98536585, 0.98780488, 0.99268293, 0.99512195, 1.        ]))"
      ]
     },
     "execution_count": 140,
     "metadata": {},
     "output_type": "execute_result"
    }
   ],
   "source": [
    "effectcum=np.cumsum(effect)\n",
    "freq = effect/np.size(x)\n",
    "freqcum= np.cumsum(freq)\n",
    "effectcum,freq,freqcum"
   ]
  },
  {
   "cell_type": "markdown",
   "metadata": {
    "slideshow": {
     "slide_type": ""
    },
    "tags": []
   },
   "source": [
    "9. Affichez les résultats de vos calculs dans un tableau présentant les modalités, leurs effectifs, effectifs cumulés, puis les fréquences et les fréquences cumulées."
   ]
  },
  {
   "cell_type": "code",
   "execution_count": 167,
   "metadata": {
    "slideshow": {
     "slide_type": ""
    },
    "tags": []
   },
   "outputs": [
    {
     "data": {
      "text/plain": [
       "'╒═══════════╤════════════╤════════════╤════════════╤═════════════╤════════════╤════════════╤════════════╤═════════════╤════════════╤═════════════╤════════════╤═════════════╤══════════════╤═════════════╤══════════════╤═════════════╤══════════════╤═════════════╤═════════════╤══════════════╤═════════════╤═════════════╤══════════════╤═════════════╤═════════════╤═════════════╤═════════════╤════════════╤══════════════╤══════════════╤═════════════╤══════════════╤══════════════╤══════════════╤══════════════╤═════════════╤══════════════╤══════════════╤═════════════╤══════════════╤═════════════╤══════════════╤══════════════╤═════════════╤══════════════╤═════════════╤═════════════╤══════════════╤═════════════╤═════════════╤══════════════╤══════════════╤═════════════╤══════════════╤══════════════╤══════════════╤═════════════════════╤══════════════╤══════════════════════╕\\n│           │            │            │            │             │            │            │            │             │            │             │            │             │              │             │              │             │              │             │             │              │             │             │              │             │             │             │             │            │              │              │             │              │              │              │              │             │              │              │             │              │             │              │              │             │              │             │             │              │             │             │              │              │             │              │    Modalités │    Effectifs │   Effectifs Cumulés │   Frequences │   Frequences cumulés │\\n╞═══════════╪════════════╪════════════╪════════════╪═════════════╪════════════╪════════════╪════════════╪═════════════╪════════════╪═════════════╪════════════╪═════════════╪══════════════╪═════════════╪══════════════╪═════════════╪══════════════╪═════════════╪═════════════╪══════════════╪═════════════╪═════════════╪══════════════╪═════════════╪═════════════╪═════════════╪═════════════╪════════════╪══════════════╪══════════════╪═════════════╪══════════════╪══════════════╪══════════════╪══════════════╪═════════════╪══════════════╪══════════════╪═════════════╪══════════════╪═════════════╪══════════════╪══════════════╪═════════════╪══════════════╪═════════════╪═════════════╪══════════════╪═════════════╪═════════════╪══════════════╪══════════════╪═════════════╪══════════════╪══════════════╪══════════════╪═════════════════════╪══════════════╪══════════════════════╡\\n│ 0         │ 2          │ 3          │  4         │  5          │  6         │  6.5       │  7         │  7.5        │  8         │  8.5        │  9         │  10         │  10.5        │  11         │  11.5        │  12         │  12.5        │  13         │  14         │  14.5        │  15         │  16         │  16.5        │  17         │  17.5       │  18         │  19         │  20        │  20.5        │  21          │  22         │  22.5        │  23          │  23.5        │  24          │  25         │  25.5        │  26          │  27         │  27.5        │  28         │  28.5        │  29.5        │  30         │  31          │  32         │  33         │  34          │  35         │  36         │  37.5        │  38          │  40         │  42          │  45          │  46          │         50          │  55          │          60          │\\n├───────────┼────────────┼────────────┼────────────┼─────────────┼────────────┼────────────┼────────────┼─────────────┼────────────┼─────────────┼────────────┼─────────────┼──────────────┼─────────────┼──────────────┼─────────────┼──────────────┼─────────────┼─────────────┼──────────────┼─────────────┼─────────────┼──────────────┼─────────────┼─────────────┼─────────────┼─────────────┼────────────┼──────────────┼──────────────┼─────────────┼──────────────┼──────────────┼──────────────┼──────────────┼─────────────┼──────────────┼──────────────┼─────────────┼──────────────┼─────────────┼──────────────┼──────────────┼─────────────┼──────────────┼─────────────┼─────────────┼──────────────┼─────────────┼─────────────┼──────────────┼──────────────┼─────────────┼──────────────┼──────────────┼──────────────┼─────────────────────┼──────────────┼──────────────────────┤\\n│ 5         │ 2          │ 2          │  9         │  2          │ 11         │  4         │ 10         │  1          │  9         │  1          │ 11         │  34         │   2          │   6         │   1          │  20         │   1          │  13         │   9         │   2          │  38         │  10         │   1          │   7         │   4         │   7         │   7         │  45        │   1          │   2          │   7         │   3          │   3          │   1          │   3          │  26         │   2          │   2          │   6         │   2          │   8         │   1          │   1          │  19         │   3          │   7         │   4         │   1          │  11         │   4         │   1          │   1          │   8         │   1          │   2          │   1          │          2          │   1          │           2          │\\n├───────────┼────────────┼────────────┼────────────┼─────────────┼────────────┼────────────┼────────────┼─────────────┼────────────┼─────────────┼────────────┼─────────────┼──────────────┼─────────────┼──────────────┼─────────────┼──────────────┼─────────────┼─────────────┼──────────────┼─────────────┼─────────────┼──────────────┼─────────────┼─────────────┼─────────────┼─────────────┼────────────┼──────────────┼──────────────┼─────────────┼──────────────┼──────────────┼──────────────┼──────────────┼─────────────┼──────────────┼──────────────┼─────────────┼──────────────┼─────────────┼──────────────┼──────────────┼─────────────┼──────────────┼─────────────┼─────────────┼──────────────┼─────────────┼─────────────┼──────────────┼──────────────┼─────────────┼──────────────┼──────────────┼──────────────┼─────────────────────┼──────────────┼──────────────────────┤\\n│ 5         │ 7          │ 9          │ 18         │ 20          │ 31         │ 35         │ 45         │ 46          │ 55         │ 56          │ 67         │ 101         │ 103          │ 109         │ 110          │ 130         │ 131          │ 144         │ 153         │ 155          │ 193         │ 203         │ 204          │ 211         │ 215         │ 222         │ 229         │ 274        │ 275          │ 277          │ 284         │ 287          │ 290          │ 291          │ 294          │ 320         │ 322          │ 324          │ 330         │ 332          │ 340         │ 341          │ 342          │ 361         │ 364          │ 371         │ 375         │ 376          │ 387         │ 391         │ 392          │ 393          │ 401         │ 402          │ 404          │ 405          │        407          │ 408          │         410          │\\n├───────────┼────────────┼────────────┼────────────┼─────────────┼────────────┼────────────┼────────────┼─────────────┼────────────┼─────────────┼────────────┼─────────────┼──────────────┼─────────────┼──────────────┼─────────────┼──────────────┼─────────────┼─────────────┼──────────────┼─────────────┼─────────────┼──────────────┼─────────────┼─────────────┼─────────────┼─────────────┼────────────┼──────────────┼──────────────┼─────────────┼──────────────┼──────────────┼──────────────┼──────────────┼─────────────┼──────────────┼──────────────┼─────────────┼──────────────┼─────────────┼──────────────┼──────────────┼─────────────┼──────────────┼─────────────┼─────────────┼──────────────┼─────────────┼─────────────┼──────────────┼──────────────┼─────────────┼──────────────┼──────────────┼──────────────┼─────────────────────┼──────────────┼──────────────────────┤\\n│ 0.0121951 │ 0.00487805 │ 0.00487805 │  0.0219512 │  0.00487805 │  0.0268293 │  0.0097561 │  0.0243902 │  0.00243902 │  0.0219512 │  0.00243902 │  0.0268293 │   0.0829268 │   0.00487805 │   0.0146341 │   0.00243902 │   0.0487805 │   0.00243902 │   0.0317073 │   0.0219512 │   0.00487805 │   0.0926829 │   0.0243902 │   0.00243902 │   0.0170732 │   0.0097561 │   0.0170732 │   0.0170732 │   0.109756 │   0.00243902 │   0.00487805 │   0.0170732 │   0.00731707 │   0.00731707 │   0.00243902 │   0.00731707 │   0.0634146 │   0.00487805 │   0.00487805 │   0.0146341 │   0.00487805 │   0.0195122 │   0.00243902 │   0.00243902 │   0.0463415 │   0.00731707 │   0.0170732 │   0.0097561 │   0.00243902 │   0.0268293 │   0.0097561 │   0.00243902 │   0.00243902 │   0.0195122 │   0.00243902 │   0.00487805 │   0.00243902 │          0.00487805 │   0.00243902 │           0.00487805 │\\n├───────────┼────────────┼────────────┼────────────┼─────────────┼────────────┼────────────┼────────────┼─────────────┼────────────┼─────────────┼────────────┼─────────────┼──────────────┼─────────────┼──────────────┼─────────────┼──────────────┼─────────────┼─────────────┼──────────────┼─────────────┼─────────────┼──────────────┼─────────────┼─────────────┼─────────────┼─────────────┼────────────┼──────────────┼──────────────┼─────────────┼──────────────┼──────────────┼──────────────┼──────────────┼─────────────┼──────────────┼──────────────┼─────────────┼──────────────┼─────────────┼──────────────┼──────────────┼─────────────┼──────────────┼─────────────┼─────────────┼──────────────┼─────────────┼─────────────┼──────────────┼──────────────┼─────────────┼──────────────┼──────────────┼──────────────┼─────────────────────┼──────────────┼──────────────────────┤\\n│ 0.0121951 │ 0.0170732  │ 0.0219512  │  0.0439024 │  0.0487805  │  0.0756098 │  0.0853659 │  0.109756  │  0.112195   │  0.134146  │  0.136585   │  0.163415  │   0.246341  │   0.25122    │   0.265854  │   0.268293   │   0.317073  │   0.319512   │   0.35122   │   0.373171  │   0.378049   │   0.470732  │   0.495122  │   0.497561   │   0.514634  │   0.52439   │   0.541463  │   0.558537  │   0.668293 │   0.670732   │   0.67561    │   0.692683  │   0.7        │   0.707317   │   0.709756   │   0.717073   │   0.780488  │   0.785366   │   0.790244   │   0.804878  │   0.809756   │   0.829268  │   0.831707   │   0.834146   │   0.880488  │   0.887805   │   0.904878  │   0.914634  │   0.917073   │   0.943902  │   0.953659  │   0.956098   │   0.958537   │   0.978049  │   0.980488   │   0.985366   │   0.987805   │          0.992683   │   0.995122   │           1          │\\n╘═══════════╧════════════╧════════════╧════════════╧═════════════╧════════════╧════════════╧════════════╧═════════════╧════════════╧═════════════╧════════════╧═════════════╧══════════════╧═════════════╧══════════════╧═════════════╧══════════════╧═════════════╧═════════════╧══════════════╧═════════════╧═════════════╧══════════════╧═════════════╧═════════════╧═════════════╧═════════════╧════════════╧══════════════╧══════════════╧═════════════╧══════════════╧══════════════╧══════════════╧══════════════╧═════════════╧══════════════╧══════════════╧═════════════╧══════════════╧═════════════╧══════════════╧══════════════╧═════════════╧══════════════╧═════════════╧═════════════╧══════════════╧═════════════╧═════════════╧══════════════╧══════════════╧═════════════╧══════════════╧══════════════╧══════════════╧═════════════════════╧══════════════╧══════════════════════╛'"
      ]
     },
     "execution_count": 167,
     "metadata": {},
     "output_type": "execute_result"
    }
   ],
   "source": [
    "from tabulate import tabulate\n",
    "donnetab = np.vstack((m,effect,effectcum,freq,freqcum))\n",
    "header =[\"Modalités\",\"Effectifs\",\"Effectifs Cumulés\",\"Frequences\",\"Frequences cumulés\"]\n",
    "tableau = tabulate(donnetab,header,tablefmt=\"fancy_grid\")\n",
    "tableau"
   ]
  },
  {
   "cell_type": "markdown",
   "metadata": {
    "slideshow": {
     "slide_type": ""
    },
    "tags": []
   },
   "source": [
    "10. Affichez la fonction de répartition empirique de la variable x."
   ]
  },
  {
   "cell_type": "code",
   "execution_count": 207,
   "metadata": {
    "slideshow": {
     "slide_type": ""
    },
    "tags": []
   },
   "outputs": [
    {
     "data": {
      "text/plain": [
       "[<matplotlib.lines.Line2D at 0x70782b24fe50>]"
      ]
     },
     "execution_count": 207,
     "metadata": {},
     "output_type": "execute_result"
    },
    {
     "data": {
      "image/png": "[encoded data removed]",
      "text/plain": [
       "<Figure size 640x480 with 1 Axes>"
      ]
     },
     "metadata": {},
     "output_type": "display_data"
    }
   ],
   "source": [
    "import matplotlib.pyplot as plt\n",
    "plt.plot(m,freqcum)"
   ]
  },
  {
   "cell_type": "markdown",
   "metadata": {
    "slideshow": {
     "slide_type": ""
    },
    "tags": []
   },
   "source": [
    "11. Calculez la médiane de deux manières différentes : \n",
    " - En utilisant la fonction NumPy et  \n",
    " - Graphiquement en utilisant la fonction de répartition empirique que vous venez de dessiner.\n",
    " "
   ]
  },
  {
   "cell_type": "code",
   "execution_count": 200,
   "metadata": {
    "slideshow": {
     "slide_type": ""
    },
    "tags": []
   },
   "outputs": [
    {
     "data": {
      "text/plain": [
       "17.0"
      ]
     },
     "execution_count": 200,
     "metadata": {},
     "output_type": "execute_result"
    }
   ],
   "source": [
    "np.median(x)"
   ]
  },
  {
   "cell_type": "markdown",
   "metadata": {},
   "source": [
    "12. Visualisez les fréquences observées de trois manières différentes. A l’aide d’un histogramme standard à 10 bins, un histogramme détaillé à 50 bins, et en affichant les effectifs pour chacune des modalités. La quelle de ces trois vue vous parait la plus intéressante ?"
   ]
  },
  {
   "cell_type": "code",
   "execution_count": 219,
   "metadata": {
    "slideshow": {
     "slide_type": ""
    },
    "tags": []
   },
   "outputs": [
    {
     "data": {
      "text/plain": [
       "((array([ 20.,  90., 105.,  76.,  51.,  45.,  14.,   4.,   2.,   3.]),\n",
       "  array([ 0.,  6., 12., 18., 24., 30., 36., 42., 48., 54., 60.]),\n",
       "  <BarContainer object of 10 artists>),\n",
       " (array([ 5.,  2.,  2.,  9.,  2., 25., 10., 12., 36.,  7., 34.,  9., 40.,\n",
       "         11., 11., 14., 45.,  3., 10.,  4., 29.,  4.,  8.,  9.,  1., 22.,\n",
       "          7.,  4.,  1., 11.,  4.,  2.,  0.,  8.,  0.,  1.,  0.,  2.,  1.,\n",
       "          0.,  0.,  2.,  0.,  0.,  0.,  1.,  0.,  0.,  0.,  2.]),\n",
       "  array([ 0. ,  1.2,  2.4,  3.6,  4.8,  6. ,  7.2,  8.4,  9.6, 10.8, 12. ,\n",
       "         13.2, 14.4, 15.6, 16.8, 18. , 19.2, 20.4, 21.6, 22.8, 24. , 25.2,\n",
       "         26.4, 27.6, 28.8, 30. , 31.2, 32.4, 33.6, 34.8, 36. , 37.2, 38.4,\n",
       "         39.6, 40.8, 42. , 43.2, 44.4, 45.6, 46.8, 48. , 49.2, 50.4, 51.6,\n",
       "         52.8, 54. , 55.2, 56.4, 57.6, 58.8, 60. ]),\n",
       "  <BarContainer object of 50 artists>))"
      ]
     },
     "execution_count": 219,
     "metadata": {},
     "output_type": "execute_result"
    },
    {
     "data": {
      "image/png": "[encoded data removed]",
      "text/plain": [
       "<Figure size 640x480 with 1 Axes>"
      ]
     },
     "metadata": {},
     "output_type": "display_data"
    }
   ],
   "source": [
    "plt.hist(x,10),plt.hist(x,50)"
   ]
  },
  {
   "cell_type": "markdown",
   "metadata": {
    "slideshow": {
     "slide_type": ""
    },
    "tags": []
   },
   "source": [
    "## Correction d'examen\n",
    "Un professeur souhaite étudier statistiquement les notes sur 10 obtenues par ses élèves à un examen. Les résultats sont donnés dans le tableau ci-dessous.\n",
    "\\begin{array}{c|c}\n",
    "Nom & Note \\\\\n",
    "  \\hline\n",
    "mike &6\\\\\n",
    "bob &5\\\\\n",
    "evan &9\\\\\n",
    "ruppert &3\\\\\n",
    "aaron &3\\\\\n",
    "steve &1\\\\\n",
    "zachariy &9\\\\\n",
    "logan &6\\\\\n",
    "roger &5\\\\\n",
    "don &6\\\\\n",
    "bill &5\\\\\n",
    "ron &6\\\\\n",
    "karl &5\\\\\n",
    "stefen &7\\\\\n",
    "tom &5\\\\\n",
    "neil &10\\\\\n",
    "john &2\\\\\n",
    "george &1\\\\\n",
    "dave &1\\\\\n",
    "tim &1\n",
    "\\end{array}"
   ]
  },
  {
   "cell_type": "markdown",
   "metadata": {},
   "source": [
    "1. Quel est le domaine de la variable ?\n",
    "2. Quelles sont les différentes modalités observées ? \n",
    "3. Quelle la nature de la variable ?"
   ]
  },
  {
   "cell_type": "code",
   "execution_count": null,
   "metadata": {
    "slideshow": {
     "slide_type": ""
    },
    "tags": []
   },
   "outputs": [],
   "source": [
    "#Création du tableau\n",
    "x = np.array([6, 5, 9, 3, 3, 1, 9, 6, 5, 6, 5, 6, 5, 7, 5, 10, 2, 1, 1, 1])\n"
   ]
  },
  {
   "cell_type": "code",
   "execution_count": null,
   "metadata": {
    "slideshow": {
     "slide_type": ""
    },
    "tags": []
   },
   "outputs": [],
   "source": []
  },
  {
   "cell_type": "markdown",
   "metadata": {},
   "source": [
    "la variable est quantitative discrete"
   ]
  },
  {
   "cell_type": "markdown",
   "metadata": {},
   "source": [
    "2. Le code suivant calcule les effectifs $n_i$ et les effectifs cumulés $N_i$ de chaque modalité. Calculez les effectifs cumulés d'une autre manière et vérifier que vous obtenez les mêmes résultats"
   ]
  },
  {
   "cell_type": "code",
   "execution_count": null,
   "metadata": {
    "slideshow": {
     "slide_type": ""
    },
    "tags": []
   },
   "outputs": [],
   "source": [
    "Mi, ni = np.unique(x, return_counts=True)\n",
    "Ni = np.zeros(ni.shape)\n",
    "Ni[0] = ni[0]\n",
    "for i in range(0, len(Ni) - 1):    \n",
    "    Ni[i+1] = Ni[i] + ni[i+1]\n",
    "print(Ni)"
   ]
  },
  {
   "cell_type": "code",
   "execution_count": null,
   "metadata": {
    "slideshow": {
     "slide_type": ""
    },
    "tags": []
   },
   "outputs": [],
   "source": []
  },
  {
   "cell_type": "markdown",
   "metadata": {
    "slideshow": {
     "slide_type": ""
    },
    "tags": []
   },
   "source": [
    "3. Calculez les effectifs par modalité, les fréquences et les fréquences cumulées des notes et affichez-les"
   ]
  },
  {
   "cell_type": "code",
   "execution_count": null,
   "metadata": {
    "slideshow": {
     "slide_type": ""
    },
    "tags": []
   },
   "outputs": [],
   "source": []
  },
  {
   "cell_type": "markdown",
   "metadata": {
    "slideshow": {
     "slide_type": ""
    },
    "tags": []
   },
   "source": [
    "4. Tracez la fonction de répartition empirique des notes."
   ]
  },
  {
   "cell_type": "code",
   "execution_count": null,
   "metadata": {
    "slideshow": {
     "slide_type": ""
    },
    "tags": []
   },
   "outputs": [],
   "source": []
  },
  {
   "cell_type": "markdown",
   "metadata": {
    "slideshow": {
     "slide_type": ""
    },
    "tags": []
   },
   "source": [
    "5. Déterminez la médiane et les quartiles des notes"
   ]
  },
  {
   "cell_type": "code",
   "execution_count": null,
   "metadata": {
    "slideshow": {
     "slide_type": ""
    },
    "tags": []
   },
   "outputs": [],
   "source": []
  },
  {
   "cell_type": "markdown",
   "metadata": {
    "slideshow": {
     "slide_type": ""
    },
    "tags": []
   },
   "source": [
    "6. En déduire le DIQ"
   ]
  },
  {
   "cell_type": "code",
   "execution_count": null,
   "metadata": {
    "slideshow": {
     "slide_type": ""
    },
    "tags": []
   },
   "outputs": [],
   "source": []
  },
  {
   "cell_type": "markdown",
   "metadata": {
    "slideshow": {
     "slide_type": ""
    },
    "tags": []
   },
   "source": [
    "7. Dessinez la boite à moustache associée sur une feuille.\n",
    "\n",
    "Selon les calculs effectués, y a-t-il une variable hors épure parmi ces notes ?"
   ]
  },
  {
   "cell_type": "code",
   "execution_count": null,
   "metadata": {
    "slideshow": {
     "slide_type": ""
    },
    "tags": []
   },
   "outputs": [],
   "source": []
  }
 ],
 "metadata": {
  "kernelspec": {
   "display_name": "M8",
   "language": "python",
   "name": "m8"
  },
  "language_info": {
   "codemirror_mode": {
    "name": "ipython",
    "version": 3
   },
   "file_extension": ".py",
   "mimetype": "text/x-python",
   "name": "python",
   "nbconvert_exporter": "python",
   "pygments_lexer": "ipython3",
   "version": "3.10.12"
  }
 },
 "nbformat": 4,
 "nbformat_minor": 4
}
