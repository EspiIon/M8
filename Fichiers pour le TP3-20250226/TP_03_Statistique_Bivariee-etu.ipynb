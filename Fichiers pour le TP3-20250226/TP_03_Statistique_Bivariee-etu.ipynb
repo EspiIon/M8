{
 "cells": [
  {
   "cell_type": "markdown",
   "metadata": {},
   "source": [
    "# M8 - TP 3 : Statistiques bivariées\n",
    "\n",
    "## Objectif\n",
    "\n",
    "Le but de ce TP est de mettre en oeuvre des statistiques opérant sur deux variables de qualités différentes (nature/continue, et quantitative/qualitative).\n",
    "\n",
    "Pour cela, nous utiliserons les tableaux de contingence et la distance du $\\chi_2$ ainsi que les coefficients de corrélation.\n",
    "\n",
    "### Compétences associées :\n",
    "\n",
    "| Numéro        | Compétence           | \n",
    "|:------------- |:--------------------:|\n",
    "|AS201|\tConnaître la définition d’un tableau de contingence|\n",
    "|AS202|\tÊtre capable de calculer les éléments d'un tableau de contingence|\n",
    "|AS203| Savoir mesurer la dépendance linéaire de deux variable en calculant le coefficient de corrélation|\n",
    "|AS204|\tConnaître les propriétés du coefficient de corrélation|\n",
    "|AS205|\tSavoir analyser un coefficient de corrélation|\n",
    "|AS206|\tConnaître la définition de la distance du $\\chi_2$|\n",
    "|PY103|\tÊtre capable d’afficher un ensemble de nuage de points entre deux variables|\n",
    "|PY201|\tÊtre capable de calculer un tableau de contingence de deux suites de données|\n",
    "|PY202|\tÊtre capable de calculer le coefficient de corrélation entre deux variables quantitatives|\n",
    "|PY203|\tÊtre capable de calculer la distance du $\\chi_2$ de deux variables qualitatives|\n"
   ]
  },
  {
   "cell_type": "code",
   "execution_count": 5,
   "metadata": {},
   "outputs": [],
   "source": [
    "import numpy as np\n",
    "import matplotlib.pyplot as plt\n"
   ]
  },
  {
   "cell_type": "markdown",
   "metadata": {},
   "source": [
    "## Sudoku"
   ]
  },
  {
   "cell_type": "markdown",
   "metadata": {},
   "source": [
    "Nous avons le tableau de contingence incomplet suivant :\n",
    "\n",
    "\\begin{array}{|c||c|c|c||c|}\n",
    "\\hline\n",
    " X \\setminus Y & y_1 = 1 & y_2 = 2 & y_3 = 8 & \\text{Marginal de }X\\ \\mathbb{P}(X) \\\\\n",
    " \\hline \\hline\n",
    " x_1 &0.1 &   &    &    \\\\\n",
    " \\hline\n",
    " x_2 &    &   &    &    \\\\\n",
    " \\hline\\hline\n",
    " \\text{Marginal de } Y\\ \\mathbb{P}(Y) &0.3&    &    &1   \\\\\n",
    " \\hline\n",
    "\\end{array}\n",
    "\n",
    "De plus, nous disposons de l’information suivante :\n",
    "\\begin{equation}\n",
    "     \\mathbb{P}(Y = y_1 |X = x_2) = \\frac{1}{2}\n",
    "\\end{equation}\n",
    "\n",
    "\\begin{equation}\n",
    "     \\mathbb{P}(Y = y_3 |X = x_1) = \\frac{1}{2}\n",
    "\\end{equation}\n",
    "\n",
    "\\begin{equation}\n",
    "     \\mathbb{E}(Y|X = x_2) = \\frac{3}{2}\n",
    "\\end{equation}"
   ]
  },
  {
   "cell_type": "markdown",
   "metadata": {},
   "source": [
    "1\\. Compléter le tableau de contingence\n",
    "**Astuce**: Pour le calculer le plus rapidement, suivez l'ordre suivant :\n",
    "\n",
    "\\begin{array}{|c||c|c|c||c|}\n",
    "\\hline\n",
    " X \\setminus Y & y_1 = 1 & y_2 = 2 & y_3 = 8 & \\text{Marginal de }X\\ \\mathbb{P}(X) \\\\\n",
    " \\hline \\hline\n",
    " x_1 &0.1 & \\textbf{0.2}  & \\textbf{0.3}   &  \\textbf{0.6}  \\\\\n",
    " \\hline\n",
    " x_2 &  \\textbf{0.2}  &  \\textbf{0.2} &  \\textbf{0}  &  \\textbf{0.4}  \\\\\n",
    " \\hline\\hline\n",
    " \\text{Marginal de } Y\\ \\mathbb{P}(Y) &0.3&  \\textbf{0.4}  &  \\textbf{0.3}  &1   \\\\\n",
    " \\hline\n",
    "\\end{array}\n",
    "\n",
    "\n",
    "De plus, les variables **6 et 7** s'obtiennent en résolvant un système de deux équations à deux inconnues"
   ]
  },
  {
   "cell_type": "markdown",
   "metadata": {},
   "source": [
    "### Les variables $X$ et $Y$ sont elles indépendantes \n",
    "1. Calculez le tableau théorique sous l'hypothèse d'indépendance"
   ]
  },
  {
   "cell_type": "markdown",
   "metadata": {
    "slideshow": {
     "slide_type": ""
    },
    "tags": []
   },
   "source": [
    "\\begin{array}{|c||c|c|c||c|}\n",
    "\\hline\n",
    " X \\setminus Y & y_1 = 1 & y_2 = 2 & y_3 = 8 & \\text{Marginal de }X\\ \\mathbb{P}(X) \\\\\n",
    " \\hline \\hline\n",
    " x_1 &0.18 & \\textbf{0.24}  & \\textbf{0.18}   &  \\textbf{0.6}  \\\\\n",
    " \\hline\n",
    " x_2 &  \\textbf{0.12}  &  \\textbf{0.16} &  \\textbf{0.12}  &  \\textbf{0.4}  \\\\\n",
    " \\hline\\hline\n",
    " \\text{Marginal de } Y\\ \\mathbb{P}(Y) &0.3&  \\textbf{0.4}  &  \\textbf{0.3}  &1   \\\\\n",
    " \\hline\n",
    "\\end{array}"
   ]
  },
  {
   "cell_type": "markdown",
   "metadata": {},
   "source": [
    "2. Calculez la distance du $\\chi_2$ à partir du tableau de contingence et du tableau théorique"
   ]
  },
  {
   "cell_type": "code",
   "execution_count": 12,
   "metadata": {
    "slideshow": {
     "slide_type": ""
    },
    "tags": []
   },
   "outputs": [
    {
     "data": {
      "text/plain": [
       "0.3055555555555556"
      ]
     },
     "execution_count": 12,
     "metadata": {},
     "output_type": "execute_result"
    }
   ],
   "source": [
    "theo = np.array([[0.18,0.24,0.18],[0.12,0.16,0.12]])\n",
    "contin =np.array([[0.1,0.2,0.3],[0.2,0.2,0]])\n",
    "x=0\n",
    "for i in range(len(theo)):\n",
    "    for j in range(len(theo[0])):\n",
    "        x+=(contin[i][j]-theo[i][j])**2/theo[i][j]\n",
    "x"
   ]
  },
  {
   "cell_type": "markdown",
   "metadata": {},
   "source": [
    "3. Vérifiez que vous obteniez bien la même chose avec scipy. \n",
    "\n",
    "NB : jetez un oeil à la doc de `chi2_contingency` du module scipy.stats"
   ]
  },
  {
   "cell_type": "code",
   "execution_count": 13,
   "metadata": {
    "slideshow": {
     "slide_type": ""
    },
    "tags": []
   },
   "outputs": [
    {
     "data": {
      "text/plain": [
       "(0.30555555555555547,\n",
       " 0.8583204384950875,\n",
       " 2,\n",
       " array([[0.18, 0.24, 0.18],\n",
       "        [0.12, 0.16, 0.12]]))"
      ]
     },
     "execution_count": 13,
     "metadata": {},
     "output_type": "execute_result"
    }
   ],
   "source": [
    "import scipy.stats as spicy\n",
    "spicy.chi2_contingency(contin)"
   ]
  },
  {
   "cell_type": "markdown",
   "metadata": {},
   "source": [
    "# Réchauffement climatique\n"
   ]
  },
  {
   "cell_type": "markdown",
   "metadata": {},
   "source": [
    "1. Le code ci dessous permet de charger les émissions de CO2 ainsi que la température globale de la Terre. Les données sont issues de https://ourworldindata.org/co2-and-other-greenhouse-gas-emissions#co2-and-greenhouse-gas-emissions-country-profiles.\n",
    "Essayez de les récupérer et de les traiter par vous mêmes. Sinon reprenez le code ci dessous.\n",
    "\n",
    "Quelle est la nature des variables ?"
   ]
  },
  {
   "cell_type": "code",
   "execution_count": 19,
   "metadata": {
    "slideshow": {
     "slide_type": ""
    },
    "tags": []
   },
   "outputs": [],
   "source": [
    "import csv\n",
    "import numpy as np\n",
    "\n",
    "#https://ourworldindata.org/co2-and-other-greenhonuse-gas-emissions#co2-and-greenhouse-gas-emissions-country-profiles\n",
    "\n",
    "tmp = []\n",
    "min_year = 1900\n",
    "\n",
    "with open('co-emissions-per-capita.csv', newline='') as csvfile:\n",
    "    reader = csv.DictReader(csvfile)\n",
    "    for row in reader:\n",
    "        if row['Entity'] == 'World':\n",
    "            if int(int(row['Year']\n",
    "                      ) >= min_year):\n",
    "                tmp.append([float(row['Per capita CO2 emissions'])])\n",
    "data_co2 = np.array(tmp)\n",
    "\n",
    "tmp = []\n",
    "with open('temperature-anomaly.csv', newline='') as csvfile:\n",
    "    reader = csv.DictReader(csvfile)\n",
    "    for row in reader:\n",
    "        if row['Entity'] == 'Global':\n",
    "            if int(int(row['Year']) >= min_year):\n",
    "                tmp.append([float(row['Median temperature anomaly from 1961-1990 average'])])\n",
    "data_temp = np.array(tmp)\n",
    "\n",
    "np.savez('data_global_warming.npz', co2=data_co2, temp=data_temp)\n",
    "# 2 continues"
   ]
  },
  {
   "cell_type": "code",
   "execution_count": null,
   "metadata": {
    "slideshow": {
     "slide_type": ""
    },
    "tags": []
   },
   "outputs": [],
   "source": []
  },
  {
   "cell_type": "markdown",
   "metadata": {},
   "source": [
    "2. Faites un résumé graphique du couple de variable sous forme d'un nuage de points"
   ]
  },
  {
   "cell_type": "code",
   "execution_count": 23,
   "metadata": {
    "slideshow": {
     "slide_type": ""
    },
    "tags": []
   },
   "outputs": [
    {
     "data": {
      "text/plain": [
       "<matplotlib.collections.PathCollection at 0x7fb584a8dae0>"
      ]
     },
     "execution_count": 23,
     "metadata": {},
     "output_type": "execute_result"
    },
    {
     "data": {
      "image/png": "[encoded data removed]",
      "text/plain": [
       "<Figure size 432x288 with 1 Axes>"
      ]
     },
     "metadata": {
      "needs_background": "light"
     },
     "output_type": "display_data"
    }
   ],
   "source": [
    "plt.scatter(data_co2,data_temp)"
   ]
  },
  {
   "cell_type": "markdown",
   "metadata": {},
   "source": [
    "3. Utilisez un bon indicateur quantitatif pour vous donner une idée si les deux variables sont dépendantes."
   ]
  },
  {
   "cell_type": "code",
   "execution_count": 26,
   "metadata": {
    "slideshow": {
     "slide_type": ""
    },
    "tags": []
   },
   "outputs": [
    {
     "data": {
      "text/plain": [
       "{'whiskers': [<matplotlib.lines.Line2D at 0x7fb584700c40>,\n",
       "  <matplotlib.lines.Line2D at 0x7fb584700f10>],\n",
       " 'caps': [<matplotlib.lines.Line2D at 0x7fb5847011e0>,\n",
       "  <matplotlib.lines.Line2D at 0x7fb5847014b0>],\n",
       " 'boxes': [<matplotlib.lines.Line2D at 0x7fb584700970>],\n",
       " 'medians': [<matplotlib.lines.Line2D at 0x7fb584701780>],\n",
       " 'fliers': [<matplotlib.lines.Line2D at 0x7fb584701a50>],\n",
       " 'means': []}"
      ]
     },
     "execution_count": 26,
     "metadata": {},
     "output_type": "execute_result"
    },
    {
     "data": {
      "image/png": "[encoded data removed]",
      "text/plain": [
       "<Figure size 432x288 with 1 Axes>"
      ]
     },
     "metadata": {
      "needs_background": "light"
     },
     "output_type": "display_data"
    }
   ],
   "source": [
    "plt.boxplot(data_co2)\n",
    "plt.boxplot(data_temp)"
   ]
  },
  {
   "cell_type": "markdown",
   "metadata": {},
   "source": [
    "## Matrices de contingence sur données réelles"
   ]
  },
  {
   "cell_type": "markdown",
   "metadata": {},
   "source": [
    "1\\. Récupérer le fichier DataExo1.mat sur Moodle.\n",
    "\n",
    "Les détails sur ces données sont disponibles https://archive.ics.uci.edu/ml/datasets/Student+Performance. Ces données décrivent les résultats des élèves dans l’enseignement secondaire de deux écoles portugaises."
   ]
  },
  {
   "cell_type": "code",
   "execution_count": 27,
   "metadata": {
    "slideshow": {
     "slide_type": ""
    },
    "tags": []
   },
   "outputs": [],
   "source": [
    "import scipy.io as sio \n",
    "mat = sio.loadmat(\"DataExo1.mat\")"
   ]
  },
  {
   "cell_type": "markdown",
   "metadata": {},
   "source": [
    "2\\. On commence par s’intéresser aux deux premières variables qui codent pour l’école $x$ et le genre $g$ de la personne interviewée."
   ]
  },
  {
   "cell_type": "code",
   "execution_count": 28,
   "metadata": {
    "slideshow": {
     "slide_type": ""
    },
    "tags": []
   },
   "outputs": [],
   "source": [
    "x = mat[\"DataExo1\"][:, 0]\n",
    "g = mat[\"DataExo1\"][:, 1]\n",
    "n=len(x)"
   ]
  },
  {
   "cell_type": "markdown",
   "metadata": {},
   "source": [
    "3\\. Construisez le tableau de contingence $O$ entre les variables $x$ et $g$"
   ]
  },
  {
   "cell_type": "code",
   "execution_count": null,
   "metadata": {
    "slideshow": {
     "slide_type": ""
    },
    "tags": []
   },
   "outputs": [],
   "source": []
  },
  {
   "cell_type": "code",
   "execution_count": null,
   "metadata": {
    "slideshow": {
     "slide_type": ""
    },
    "tags": []
   },
   "outputs": [],
   "source": []
  },
  {
   "cell_type": "markdown",
   "metadata": {},
   "source": [
    "4\\. Construisez le tableau théorique associé en supposant l’indépendance des deux variables."
   ]
  },
  {
   "cell_type": "code",
   "execution_count": null,
   "metadata": {
    "slideshow": {
     "slide_type": ""
    },
    "tags": []
   },
   "outputs": [],
   "source": []
  },
  {
   "cell_type": "markdown",
   "metadata": {
    "slideshow": {
     "slide_type": ""
    },
    "tags": []
   },
   "source": [
    "5\\. Calculez la distance du $\\chi_2$ entre les variables $x$ et $g$. Ces deux variables sont elles liées ou sont elles indépendantes ?"
   ]
  },
  {
   "cell_type": "code",
   "execution_count": null,
   "metadata": {
    "slideshow": {
     "slide_type": ""
    },
    "tags": []
   },
   "outputs": [],
   "source": []
  },
  {
   "cell_type": "markdown",
   "metadata": {
    "slideshow": {
     "slide_type": ""
    },
    "tags": []
   },
   "source": [
    "6\\.Vérifiez que la fonction chi2_contingency de scipy.stats fait bien la même chose"
   ]
  },
  {
   "cell_type": "code",
   "execution_count": null,
   "metadata": {
    "slideshow": {
     "slide_type": ""
    },
    "tags": []
   },
   "outputs": [],
   "source": []
  },
  {
   "cell_type": "markdown",
   "metadata": {},
   "source": [
    "7\\. On s’intéresse maintenant à la septième variable $Me$ qui code le niveau d’éducation des mère de la manière suivante :\n",
    "\n",
    "    * 0 - none,\n",
    "    * 1 - primary education (4th grade),\n",
    "    * 2 - 5th to 9th grade,\n",
    "    * 3 - secondary education\n",
    "    * 4 - higher education\n",
    "\n",
    "Récupérez cette variable et calculez les effectifs de chacune des modalités. Qu’en concluez vous ?"
   ]
  },
  {
   "cell_type": "code",
   "execution_count": null,
   "metadata": {
    "slideshow": {
     "slide_type": ""
    },
    "tags": []
   },
   "outputs": [],
   "source": []
  },
  {
   "cell_type": "markdown",
   "metadata": {},
   "source": [
    "8\\. Construisez le tableau de contingence N entre les variables $x$ et $Me$"
   ]
  },
  {
   "cell_type": "code",
   "execution_count": null,
   "metadata": {
    "slideshow": {
     "slide_type": ""
    },
    "tags": []
   },
   "outputs": [],
   "source": []
  },
  {
   "cell_type": "markdown",
   "metadata": {},
   "source": [
    "9\\. Construisez le tableau théorique associé en supposant l’indépendance des deux variables."
   ]
  },
  {
   "cell_type": "code",
   "execution_count": null,
   "metadata": {
    "slideshow": {
     "slide_type": ""
    },
    "tags": []
   },
   "outputs": [],
   "source": []
  },
  {
   "cell_type": "markdown",
   "metadata": {
    "slideshow": {
     "slide_type": ""
    },
    "tags": []
   },
   "source": [
    "10\\. Calculez la distance du $\\chi_2$ entre les variables $x$ et $Me$. Ces deux variables $x$ et $Me$ sont elles liées ou sont elles indépendantes ? Que peut on en déduire sur le choix de l’école ?"
   ]
  },
  {
   "cell_type": "code",
   "execution_count": null,
   "metadata": {
    "slideshow": {
     "slide_type": ""
    },
    "tags": []
   },
   "outputs": [],
   "source": []
  }
 ],
 "metadata": {
  "kernelspec": {
   "display_name": "Python 3 (ipykernel)",
   "language": "python",
   "name": "python3"
  },
  "language_info": {
   "codemirror_mode": {
    "name": "ipython",
    "version": 3
   },
   "file_extension": ".py",
   "mimetype": "text/x-python",
   "name": "python",
   "nbconvert_exporter": "python",
   "pygments_lexer": "ipython3",
   "version": "3.10.12"
  }
 },
 "nbformat": 4,
 "nbformat_minor": 4
}
