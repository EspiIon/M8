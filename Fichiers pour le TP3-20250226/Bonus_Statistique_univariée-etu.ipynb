{
 "cells": [
  {
   "cell_type": "markdown",
   "id": "55ce7a50-a7f2-4c98-b38c-67454c4017d3",
   "metadata": {},
   "source": [
    "# Maitrise des Statistiques Univariée"
   ]
  },
  {
   "cell_type": "markdown",
   "id": "e949491c-5474-406e-bf7f-bc3f3efdd803",
   "metadata": {},
   "source": [
    "Le but de ce TD est de mettre en oeuvre les bonnes mesures statistiques par rapport aux caractéristiques des données. Pour cela nous allons charger les données du Titanic qui nous donne une description d'un ensemble des passengers du Titanic. \n",
    "\n",
    "## Chargement des données Titanic"
   ]
  },
  {
   "cell_type": "code",
   "execution_count": 2,
   "id": "562cac74-8704-410d-a1b5-a68e53fa689e",
   "metadata": {},
   "outputs": [
    {
     "data": {
      "text/plain": [
       "(712, 10)"
      ]
     },
     "execution_count": 2,
     "metadata": {},
     "output_type": "execute_result"
    }
   ],
   "source": [
    "import numpy as np\n",
    "\n",
    "data = np.loadtxt('titanic_clean.csv', delimiter=',', dtype=str, skiprows=1)\n"
   ]
  },
  {
   "cell_type": "markdown",
   "id": "3cbcf321",
   "metadata": {},
   "source": [
    "Combien avez vous de passengers, et combien de variables sont utilisées pour décrire les passengers ?"
   ]
  },
  {
   "cell_type": "code",
   "execution_count": null,
   "id": "252a64db",
   "metadata": {},
   "outputs": [],
   "source": []
  },
  {
   "cell_type": "markdown",
   "id": "54cc7bb1",
   "metadata": {},
   "source": [
    "Ouvrez le fichier titanic_clean.csv avec un tableur, et identifiez une variable non aléatoire, une variable qualitative, une variable quantitative discrète et une variable quantitative continue."
   ]
  },
  {
   "cell_type": "markdown",
   "id": "95191428",
   "metadata": {},
   "source": [
    "Maintenant, nous allons extraire quelques variables d'intérêt."
   ]
  },
  {
   "cell_type": "code",
   "execution_count": null,
   "id": "a3e83fbe",
   "metadata": {},
   "outputs": [],
   "source": [
    "survie = data[:, 1].astype(int)\n",
    "p_class = data[:, 2].astype(int)\n",
    "sex = data[:, 3]\n",
    "age = data[:, 5].astype(float)\n",
    "fare = data[:, 8].astype(float)\n",
    "embarked = data[:, 9]"
   ]
  },
  {
   "cell_type": "markdown",
   "id": "5cf46e42",
   "metadata": {},
   "source": [
    "# Analyse Statistique Quantitative \n",
    "\n",
    "Calculez un résumé central adapté pour les variables   `survie`,  `fare` et  `embarked`"
   ]
  },
  {
   "cell_type": "code",
   "execution_count": null,
   "id": "51d620a2",
   "metadata": {},
   "outputs": [],
   "source": []
  },
  {
   "cell_type": "markdown",
   "id": "4f81df74",
   "metadata": {},
   "source": [
    "Donnez deux valeurs résumant la dispersion autour de la moyenne pour la variable `age`."
   ]
  },
  {
   "cell_type": "code",
   "execution_count": null,
   "id": "6c894f09",
   "metadata": {},
   "outputs": [],
   "source": []
  },
  {
   "cell_type": "markdown",
   "id": "74c14a91",
   "metadata": {},
   "source": [
    "## Analyse Statistique Qualitative"
   ]
  },
  {
   "cell_type": "markdown",
   "id": "b9c7fb48",
   "metadata": {},
   "source": [
    "Proposez un bon résumé graphique pour la variable `embarked`. Justifiez votre choix !"
   ]
  },
  {
   "cell_type": "markdown",
   "id": "c54e13b2",
   "metadata": {},
   "source": [
    "Calculez un histogramme pour la variable 'fare' et 'age'. Quelle différence observez-vous entre les deux distributions ?"
   ]
  },
  {
   "cell_type": "code",
   "execution_count": null,
   "id": "c4ed5f39",
   "metadata": {},
   "outputs": [],
   "source": []
  },
  {
   "cell_type": "markdown",
   "id": "73af6b73",
   "metadata": {},
   "source": [
    "Retrouvez la même information en utilisant les boites à moustaches."
   ]
  },
  {
   "cell_type": "code",
   "execution_count": null,
   "id": "2559b892",
   "metadata": {},
   "outputs": [],
   "source": []
  },
  {
   "cell_type": "markdown",
   "id": "f38d4beb",
   "metadata": {},
   "source": [
    "Sur la variable age, recalculez par vous meme les limites de la boite à moustache (barre centrale, extremités de la boites et épures)"
   ]
  },
  {
   "cell_type": "code",
   "execution_count": null,
   "id": "9b7d5ba1",
   "metadata": {},
   "outputs": [],
   "source": []
  },
  {
   "cell_type": "code",
   "execution_count": null,
   "id": "56a65d4d",
   "metadata": {},
   "outputs": [],
   "source": []
  }
 ],
 "metadata": {
  "kernelspec": {
   "display_name": "iml",
   "language": "python",
   "name": "iml"
  },
  "language_info": {
   "codemirror_mode": {
    "name": "ipython",
    "version": 3
   },
   "file_extension": ".py",
   "mimetype": "text/x-python",
   "name": "python",
   "nbconvert_exporter": "python",
   "pygments_lexer": "ipython3",
   "version": "3.10.13"
  }
 },
 "nbformat": 4,
 "nbformat_minor": 5
}
